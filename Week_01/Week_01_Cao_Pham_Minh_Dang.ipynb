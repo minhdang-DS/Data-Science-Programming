{
 "cells": [
  {
   "cell_type": "markdown",
   "id": "9e1071bf",
   "metadata": {},
   "source": [
    "# **Week 1 Tasks - Data Science Programming**\n",
    "**Student Name**: Cao Pham Minh Dang \n",
    "**Date**: 17/09/2025\n",
    "\n",
    "This notebook contains solutions to all Week 1 tasks using the student_scores.csv dataset."
   ]
  },
  {
   "cell_type": "markdown",
   "id": "1e55d6d1",
   "metadata": {},
   "source": [
    "## **Task 1 - Hello World**\n",
    "Write a program that prints: \"Welcome to Data Science Programming!\""
   ]
  },
  {
   "cell_type": "code",
   "execution_count": 2,
   "id": "0ddf196c",
   "metadata": {},
   "outputs": [
    {
     "name": "stdout",
     "output_type": "stream",
     "text": [
      "Welcome to Data Science Programming!\n"
     ]
    }
   ],
   "source": [
    "print(\"Welcome to Data Science Programming!\")"
   ]
  },
  {
   "cell_type": "markdown",
   "id": "3c994124",
   "metadata": {},
   "source": [
    "## **Task 2 - Simple Math**\n",
    "Calculate and print the result of:\n",
    "- 15 + 23\n",
    "- 120 / 6\n",
    "- 5³ (5 to the power of 3)"
   ]
  },
  {
   "cell_type": "code",
   "execution_count": 3,
   "id": "29749790",
   "metadata": {},
   "outputs": [
    {
     "name": "stdout",
     "output_type": "stream",
     "text": [
      "38\n",
      "20.0\n",
      "125\n"
     ]
    }
   ],
   "source": [
    "print(15 + 23)\n",
    "print(120 / 6)\n",
    "print(5**3)"
   ]
  },
  {
   "cell_type": "markdown",
   "id": "2ebd12e3",
   "metadata": {},
   "source": [
    "## **Task 3 - Variables and Lists**\n",
    "Create a list of 5 numbers: [10, 20, 30, 40, 50].\n",
    "\n",
    "Print the list and the sum of its elements."
   ]
  },
  {
   "cell_type": "code",
   "execution_count": 4,
   "id": "2837fc59",
   "metadata": {},
   "outputs": [
    {
     "name": "stdout",
     "output_type": "stream",
     "text": [
      "[10, 20, 30, 40, 50]\n",
      "150\n"
     ]
    }
   ],
   "source": [
    "lists = [10, 20, 30, 40, 50]\n",
    "print(lists)\n",
    "print(sum(lists))"
   ]
  },
  {
   "cell_type": "markdown",
   "id": "f0465931",
   "metadata": {},
   "source": [
    "## **Task 4 - Plot Squares**\n",
    "Create a list of numbers from 1 to 10.\n",
    "\n",
    "Plot the numbers against their squares using matplotlib."
   ]
  },
  {
   "cell_type": "code",
   "execution_count": 6,
   "id": "51e44b94",
   "metadata": {},
   "outputs": [
    {
     "data": {
      "image/png": "[encoded data removed]",
      "text/plain": [
       "<Figure size 640x480 with 1 Axes>"
      ]
     },
     "metadata": {},
     "output_type": "display_data"
    }
   ],
   "source": [
    "import matplotlib.pyplot as plt\n",
    "\n",
    "nums = [1, 2, 3, 4, 5, 6, 7, 8, 9, 10]\n",
    "squares = [x**2 for x in nums]\n",
    "plt.plot(nums, squares)\n",
    "plt.show()"
   ]
  },
  {
   "cell_type": "markdown",
   "id": "145e714d",
   "metadata": {},
   "source": [
    "## **Task 5 - Load Dataset**\n",
    "Load student_scores.csv into your program.\n",
    "\n",
    "Display the first 5 rows."
   ]
  },
  {
   "cell_type": "code",
   "execution_count": 13,
   "id": "e9fe60b5",
   "metadata": {},
   "outputs": [
    {
     "data": {
      "text/html": [
       "<div>\n",
       "<style scoped>\n",
       "    .dataframe tbody tr th:only-of-type {\n",
       "        vertical-align: middle;\n",
       "    }\n",
       "\n",
       "    .dataframe tbody tr th {\n",
       "        vertical-align: top;\n",
       "    }\n",
       "\n",
       "    .dataframe thead th {\n",
       "        text-align: right;\n",
       "    }\n",
       "</style>\n",
       "<table border=\"1\" class=\"dataframe\">\n",
       "  <thead>\n",
       "    <tr style=\"text-align: right;\">\n",
       "      <th></th>\n",
       "      <th>Name</th>\n",
       "      <th>Score</th>\n",
       "    </tr>\n",
       "  </thead>\n",
       "  <tbody>\n",
       "    <tr>\n",
       "      <th>0</th>\n",
       "      <td>Alice</td>\n",
       "      <td>85</td>\n",
       "    </tr>\n",
       "    <tr>\n",
       "      <th>1</th>\n",
       "      <td>Bob</td>\n",
       "      <td>72</td>\n",
       "    </tr>\n",
       "    <tr>\n",
       "      <th>2</th>\n",
       "      <td>Charlie</td>\n",
       "      <td>90</td>\n",
       "    </tr>\n",
       "    <tr>\n",
       "      <th>3</th>\n",
       "      <td>David</td>\n",
       "      <td>65</td>\n",
       "    </tr>\n",
       "    <tr>\n",
       "      <th>4</th>\n",
       "      <td>Emma</td>\n",
       "      <td>78</td>\n",
       "    </tr>\n",
       "  </tbody>\n",
       "</table>\n",
       "</div>"
      ],
      "text/plain": [
       "      Name  Score\n",
       "0    Alice     85\n",
       "1      Bob     72\n",
       "2  Charlie     90\n",
       "3    David     65\n",
       "4     Emma     78"
      ]
     },
     "execution_count": 13,
     "metadata": {},
     "output_type": "execute_result"
    }
   ],
   "source": [
    "import pandas as pd \n",
    "\n",
    "data = pd.read_csv('student_scores.csv')\n",
    "data.head()"
   ]
  },
  {
   "cell_type": "markdown",
   "id": "a9ad7893",
   "metadata": {},
   "source": [
    "## **Task 6 - Summary Statistics**\n",
    "Print the average (mean) of the Score column.\n",
    "\n",
    "Print the minimum and maximum scores."
   ]
  },
  {
   "cell_type": "code",
   "execution_count": 8,
   "id": "5202102e",
   "metadata": {},
   "outputs": [
    {
     "name": "stdout",
     "output_type": "stream",
     "text": [
      "78.0\n",
      "55\n",
      "92\n"
     ]
    }
   ],
   "source": [
    "print(data['Score'].mean())\n",
    "print(data['Score'].min())\n",
    "print(data['Score'].max())"
   ]
  },
  {
   "cell_type": "markdown",
   "id": "821c1e3f",
   "metadata": {},
   "source": [
    "## **Task 7 - Filtering Data**\n",
    "Find and print the names of students who scored greater than 80."
   ]
  },
  {
   "cell_type": "code",
   "execution_count": 9,
   "id": "0834c3ab",
   "metadata": {},
   "outputs": [
    {
     "name": "stdout",
     "output_type": "stream",
     "text": [
      "0      Alice\n",
      "2    Charlie\n",
      "6      Grace\n",
      "7     Hannah\n",
      "9      Julia\n",
      "Name: Name, dtype: object\n"
     ]
    }
   ],
   "source": [
    "high_score = data[data['Score'] > 80]\n",
    "print(high_score['Name'])"
   ]
  },
  {
   "cell_type": "markdown",
   "id": "28032127",
   "metadata": {},
   "source": [
    "## **Task 8 - Sorting Data**\n",
    "Sort the dataset by Score in descending order.\n",
    "\n",
    "Display the top 3 students."
   ]
  },
  {
   "cell_type": "code",
   "execution_count": 10,
   "id": "45363924",
   "metadata": {},
   "outputs": [
    {
     "name": "stdout",
     "output_type": "stream",
     "text": [
      "      Name  Score\n",
      "6    Grace     92\n",
      "2  Charlie     90\n",
      "9    Julia     88\n"
     ]
    }
   ],
   "source": [
    "descending = data.sort_values(by='Score', ascending=False)\n",
    "print(descending.head(3))"
   ]
  },
  {
   "cell_type": "markdown",
   "id": "faca619f",
   "metadata": {},
   "source": [
    "## **Task 9 - Visualization**\n",
    "Create a histogram of scores.\n",
    "\n",
    "Add appropriate title and axis labels."
   ]
  },
  {
   "cell_type": "code",
   "execution_count": 23,
   "id": "a1987984",
   "metadata": {},
   "outputs": [
    {
     "data": {
      "image/png": "[encoded data removed]",
      "text/plain": [
       "<Figure size 640x480 with 1 Axes>"
      ]
     },
     "metadata": {},
     "output_type": "display_data"
    }
   ],
   "source": [
    "plt.hist(data['Score'], bins=5, edgecolor='white')  \n",
    "plt.title('Distribution of Student Scores')         \n",
    "plt.xlabel('Score')                                \n",
    "plt.ylabel('Number of Students')                   \n",
    "plt.show()                                         "
   ]
  },
  {
   "cell_type": "code",
   "execution_count": null,
   "id": "f8d8e23c",
   "metadata": {},
   "outputs": [],
   "source": []
  }
 ],
 "metadata": {
  "kernelspec": {
   "display_name": "base",
   "language": "python",
   "name": "python3"
  },
  "language_info": {
   "codemirror_mode": {
    "name": "ipython",
    "version": 3
   },
   "file_extension": ".py",
   "mimetype": "text/x-python",
   "name": "python",
   "nbconvert_exporter": "python",
   "pygments_lexer": "ipython3",
   "version": "3.12.9"
  }
 },
 "nbformat": 4,
 "nbformat_minor": 5
}
